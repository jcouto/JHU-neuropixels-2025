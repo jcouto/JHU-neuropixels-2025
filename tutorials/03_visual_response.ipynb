{
 "cells": [
  {
   "cell_type": "markdown",
   "id": "89685b07",
   "metadata": {},
   "source": [
    "For this tutorial we use a dataset from chronic recordings collected for Steinmetz et al. 2021. This is a subset of the data available [here](https://rdr.ucl.ac.uk/articles/dataset/Chronic_recordings_from_Neuropixels_2_0_probes_in_mice/24411841).\n",
    "\n",
    "The dataset was collected by _Anna Lebedeva_ in the Carandini/Harris lab at UCL from animal _AL032_, and prepared by _Jennifer Colonell_ (HHMI, Janelia). \n",
    "\n",
    "**Only data from shank0 and recording day 2019-11-21 are provided.**\n",
    "\n",
    "For experimental details about the recording (specifically: the experiment in Figure 4 of the paper, Supplementary methods 1.2 Chronic recordings in Carandini/Harris Lab at UCL)"
   ]
  },
  {
   "cell_type": "code",
   "execution_count": null,
   "id": "1df944dd",
   "metadata": {},
   "outputs": [],
   "source": [
    "from pathlib import Path\n",
    "import numpy as np \n",
    "import pylab as plt\n",
    "# for interactivity\n",
    "%matplotlib ipympl \n",
    "\n",
    "outfolder = Path('./data/AL032_out/')\n",
    "\n",
    "from helpers import load_phy_folder  # load the function from the previous tutorial\n",
    "res = load_phy_folder(outfolder) # this is converted to a function in the helpers\n",
    "sampling_rate = 30000 # this can be read from the params.py file or from the .meta\n",
    "\n",
    "from scipy.io import loadmat # load matlab files in python\n",
    "mat = loadmat(outfolder.parent/'AL032_stimulus/AL032_stimulus_times.mat',squeeze_me=True)\n",
    "\n",
    "stimtimes = mat['sorted_response'][np.where(mat['day_label'] == '2019-11-21')].squeeze()\n",
    "stimtimes = np.stack(stimtimes) # ntrial x nstim x feature\n"
   ]
  },
  {
   "cell_type": "markdown",
   "id": "c39db82c",
   "metadata": {},
   "source": [
    "It is often useful to get an overview of task or stimulus events in the context of the drift raster, these can be easily overlayed.\n",
    "\n",
    "Based on the previous plot, there is a function in the helpers to a ``plot_drift_raster``"
   ]
  },
  {
   "cell_type": "code",
   "execution_count": null,
   "id": "28cfbfb8",
   "metadata": {},
   "outputs": [],
   "source": [
    "from helpers import plot_drift_raster\n",
    "# plot the stim times alongside\n",
    "plot_drift_raster(spiketimes = res['spike_times']/sampling_rate,\n",
    "                  spikepositions = res['spike_positions'],\n",
    "                  spikeamplitudes = res['spike_amplitudes'])\n",
    "                  \n",
    "plt.vlines(stimtimes[:,:,1],*plt.ylim(),lw = 0.3,color = 'k')\n",
    "\n",
    "plt.ylabel('Depth from probe tip ($\\mu$m)',fontsize = 14)\n",
    "plt.xlabel('Experiment time (s)',fontsize = 14);\n",
    "plt.xlim([0,600]);"
   ]
  },
  {
   "cell_type": "markdown",
   "id": "8be2b0ed",
   "metadata": {},
   "source": [
    "It is hard to see the effect of the stimulus, lets plot a ``PSTH`` **peri-stimulus time histogram** of population activity. This, together with **trial rasters** should tell us if the synchronization between the streams is ok."
   ]
  },
  {
   "cell_type": "code",
   "execution_count": null,
   "id": "ad6f8cc6",
   "metadata": {},
   "outputs": [],
   "source": [
    "# triggered psth\n",
    "interval = [-0.5,1.5]\n",
    "\n",
    "ev = stimtimes[:,:,1].flatten()\n",
    "ts = res['spike_times']/sampling_rate\n",
    "\n",
    "triggered_population = [ts[(ts>interval[0]+e) & (ts<interval[1]+e)] - e for e in ev]\n",
    "binsize = 0.01\n",
    "bins = np.arange(*interval,binsize)\n",
    "# create a histogram of the trials separately so we can get a mean and std easily\n",
    "pop_psths = np.stack([np.histogram(t,bins = bins)[0] for t in triggered_population]).astype('float32')\n",
    "pop_psths /= binsize\n",
    "t = bins[1:] - np.diff(bins[:2])/2\n",
    "plt.figure()\n",
    "psth = np.mean(pop_psths,axis = 0)\n",
    "psth_sem =  np.std(pop_psths,axis = 0)/np.sqrt(len(pop_psths))\n",
    "\n",
    "plt.fill_between(t,psth+psth_sem,psth-psth_sem,color = 'gray')\n",
    "plt.plot(t,psth,'k')\n",
    "plt.ylim([0,np.max(plt.ylim())])\n",
    "plt.xlim(*interval)\n",
    "plt.vlines([0,1],*plt.ylim(),color = 'r',linestyle = '--',lw =0.5)\n",
    "plt.ylabel('Multi-unit spikes/second',fontsize = 16)\n",
    "plt.xlabel('Time from stim onset (s)',fontsize = 16);"
   ]
  },
  {
   "cell_type": "markdown",
   "id": "bb04f321",
   "metadata": {},
   "source": [
    "We can see an rise in activity when the stimulus comes on as expected in _primary visual cortex_. Lets now look at the response of individual cells to the stimuli."
   ]
  },
  {
   "cell_type": "code",
   "execution_count": null,
   "id": "7823ac25",
   "metadata": {},
   "outputs": [],
   "source": [
    "# first lets create a list of spikes for each clusters\n",
    "unit_spikes = []\n",
    "for iclu in res['metrics'].cluster_id.values:\n",
    "    unit_spikes.append(np.take(res['spike_times'],np.where(res['spike_clusters']==iclu)[0])/sampling_rate)\n",
    "print(f'Gathered spike times from {len(unit_spikes)} units.')\n",
    "\n",
    "# extract a raster for each unit for each stimuli\n",
    "ntrials,nstims ,_ = stimtimes.shape \n",
    "triggered_activity = []\n",
    "interval = [-0.5,1.5]\n",
    "for ts in unit_spikes: # iterate over units\n",
    "    triggered_activity.append([])\n",
    "    for istim in range(nstims): # iterate over stimuli\n",
    "        ev = stimtimes[:,istim,1]\n",
    "        triggered_activity[-1].extend([ts[(ts>interval[0]+e) & (ts<interval[1]+e)] - e for e in ev])\n",
    "\n",
    "print(f'Gathered the activity from {nstims} stims and {ntrials} trials.')\n"
   ]
  },
  {
   "cell_type": "markdown",
   "id": "20c8511a",
   "metadata": {},
   "source": [
    "Lets now use ``ipywidgets`` to cycle through all cells."
   ]
  },
  {
   "cell_type": "markdown",
   "id": "03cf672e",
   "metadata": {},
   "source": []
  },
  {
   "cell_type": "code",
   "execution_count": null,
   "id": "26e29666",
   "metadata": {},
   "outputs": [],
   "source": [
    "\n",
    "# plot an interactive raster to go over the activity of the cells\n",
    "fig = plt.figure()\n",
    "from ipywidgets import IntSlider,interact\n",
    "@interact(icell = IntSlider(val =0, min=0,max=len(unit_spikes)-1))\n",
    "def raster_slider(icell):\n",
    "    triggered = triggered_activity[icell]\n",
    "    trial_index = np.hstack([i*np.ones_like(s) for i,s in enumerate(triggered)])\n",
    "    trial_spikes = np.hstack(triggered)\n",
    "    fig.clf()\n",
    "    scatt = plt.scatter(trial_spikes,trial_index,5,'k',marker = '|');\n",
    "    plt.title(f\"Unit {int(res['metrics'].iloc[icell]['cluster_id'])}\")\n",
    "    plt.xlim(interval)\n",
    "    plt.ylim([0,len(triggered_activity[0])]);\n",
    "    plt.vlines([0,1],*plt.ylim(),color = 'r',linestyle = '-',lw = 0.5);\n"
   ]
  },
  {
   "cell_type": "markdown",
   "id": "50bc1b62",
   "metadata": {},
   "source": [
    "**Exercise**\n",
    "\n",
    "Plot a PSTH aligned with the rasters and cicle through all cells using the slider.\n",
    "\n",
    "---\n",
    "\n",
    "\n",
    "There are 112 stimuli in this dataset. Some cells might prefer one stimuli over another. We will reproduce the analysis in figure 4c of the [Steinmetz et al. 2021](https://www.science.org/doi/10.1126/science.abf4588) paper."
   ]
  },
  {
   "cell_type": "code",
   "execution_count": null,
   "id": "bbfe2fda",
   "metadata": {},
   "outputs": [],
   "source": [
    "# plot \"fingerprints\" - these are the average response to each stimuli subtracted by the average response during the stim period\n",
    "\n",
    "fingerprints = []\n",
    "interval = [0,1]\n",
    "for ts in unit_spikes: # iterate over units\n",
    "    fingerprints.append([])\n",
    "    for istim in range(stimtimes.shape[1]): # iterate over stimuli\n",
    "        ev = stimtimes[:,istim,1]\n",
    "        fingerprints[-1].append(np.mean([len(ts[(ts>interval[0]+e) & (ts<interval[1]+e)]) for e in ev]))\n",
    "fingerprints = np.stack(fingerprints)\n",
    "fingerprints = (fingerprints.T - fingerprints.mean(axis = 1)).T\n",
    "plt.figure(figsize = [11,5])\n",
    "\n",
    "plt.imshow(fingerprints,cmap = 'RdBu_r',clim = [-5,5],interpolation='none',aspect = 'auto')\n",
    "plt.colorbar(label='Firing rate change',shrink = 0.5)\n",
    "plt.ylabel('Unit index',fontsize = 16)\n",
    "plt.xlabel('Visual stimulus #',fontsize = 16);"
   ]
  },
  {
   "cell_type": "markdown",
   "id": "cf15a957",
   "metadata": {},
   "source": [
    "We are plotting over 200 cells and it becomes difficult to isolate if there are groups of cells that have similar responses. We can use **similarity** clustering to sort the cells by their responses."
   ]
  },
  {
   "cell_type": "code",
   "execution_count": null,
   "id": "614a67d1",
   "metadata": {},
   "outputs": [],
   "source": [
    "# use hierarchical clustering to group similar \"fingerprints\"\n",
    "from scipy.spatial.distance import pdist\n",
    "from scipy.cluster.hierarchy import linkage, optimal_leaf_ordering, dendrogram,fcluster\n",
    "\n",
    "\n",
    "dist_matrix = pdist(fingerprints, metric='euclidean')\n",
    "linkage_matrix = linkage(dist_matrix, method='ward')\n",
    "idx = np.argsort(fcluster(linkage_matrix,fingerprints.shape[1],criterion='maxclust'))\n",
    "\n",
    "plt.figure(figsize = [11,5])\n",
    "plt.imshow(fingerprints[idx],cmap = 'RdBu_r',clim = [-5,5],interpolation='none',aspect = 'auto')\n",
    "plt.colorbar(label='Firing rate change',shrink = 0.5)\n",
    "plt.ylabel('Units (sorted by similarity)',fontsize = 16)\n",
    "plt.xlabel('Visual stimulus #',fontsize = 16);"
   ]
  },
  {
   "cell_type": "code",
   "execution_count": null,
   "id": "06c695bd",
   "metadata": {},
   "outputs": [],
   "source": [
    "from sklearn.preprocessing import StandardScaler\n",
    "sc = StandardScaler()\n",
    "norm_spikecounts = sc.fit_transform(fingerprints)\n",
    "\n",
    "from sklearn.decomposition import PCA\n",
    "pca = PCA(n_components=4)\n",
    "\n",
    "reduced = pca.fit_transform(norm_spikecounts[:,:])"
   ]
  },
  {
   "cell_type": "code",
   "execution_count": null,
   "id": "c314f618",
   "metadata": {},
   "outputs": [],
   "source": []
  }
 ],
 "metadata": {
  "kernelspec": {
   "display_name": "base",
   "language": "python",
   "name": "python3"
  },
  "language_info": {
   "codemirror_mode": {
    "name": "ipython",
    "version": 3
   },
   "file_extension": ".py",
   "mimetype": "text/x-python",
   "name": "python",
   "nbconvert_exporter": "python",
   "pygments_lexer": "ipython3",
   "version": "3.11.6"
  }
 },
 "nbformat": 4,
 "nbformat_minor": 5
}
