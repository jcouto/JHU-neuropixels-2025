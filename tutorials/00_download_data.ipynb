{
 "cells": [
  {
   "cell_type": "markdown",
   "id": "52e2f53a",
   "metadata": {},
   "source": [
    "## Dataset used in the tutorials\n",
    "\n",
    "For these tutorials we will use a dataset from chronic recordings collected for Steinmetz et al. 2021. This is a subset of the data available [here](https://rdr.ucl.ac.uk/articles/dataset/Chronic_recordings_from_Neuropixels_2_0_probes_in_mice/24411841).\n",
    "\n",
    "The dataset was collected by _Anna Lebedeva_ in the Carandini/Harris lab at UCL from animal _AL032_, and prepared by _Jennifer Colonell_ (HHMI, Janelia). \n",
    "\n",
    "**Only data from shank0 and recording day 2019-11-21 are provided.**\n",
    "\n",
    "For experimental details about the recording (specifically: the experiment in Figure 4 of the paper, Supplementary methods 1.2 Chronic recordings in Carandini/Harris Lab at UCL)"
   ]
  },
  {
   "cell_type": "code",
   "execution_count": null,
   "id": "19ee08b4",
   "metadata": {},
   "outputs": [],
   "source": [
    "from helpers import download_dataset\n",
    "download_dataset('info')  # returns information about the available datasets"
   ]
  },
  {
   "cell_type": "code",
   "execution_count": 3,
   "id": "73374bfe",
   "metadata": {},
   "outputs": [
    {
     "name": "stdout",
     "output_type": "stream",
     "text": [
      "Path /Users/jcouto/lib/JHU-neuropixels-2025/tutorials/data/AL032_stimulus is there; delete it if you want to download the dataset again.\n"
     ]
    },
    {
     "name": "stderr",
     "output_type": "stream",
     "text": [
      "Downloading...\n",
      "From: https://drive.google.com/uc?id=1ecWZdG-xjWCNq37hop1Go1__WkxVv5Lo\n",
      "To: /Users/jcouto/lib/JHU-neuropixels-2025/tutorials/data/AL032_stimulus/AL032_stimulus.zip\n",
      "100%|██████████| 48.2k/48.2k [00:00<00:00, 4.56MB/s]\n"
     ]
    },
    {
     "ename": "FileURLRetrievalError",
     "evalue": "Failed to retrieve file url:\n\n\tCannot retrieve the public link of the file. You may need to change\n\tthe permission to 'Anyone with the link', or have had many accesses.\n\tCheck FAQ in https://github.com/wkentaro/gdown?tab=readme-ov-file#faq.\n\nYou may still be able to access the file from the browser:\n\n\thttps://drive.google.com/uc?id=12AtIm-y2JbygTFGcg5yC_3XKiVcYoe2I\n\nbut Gdown can't. Please check connections and permissions.",
     "output_type": "error",
     "traceback": [
      "\u001b[0;31m---------------------------------------------------------------------------\u001b[0m",
      "\u001b[0;31mFileURLRetrievalError\u001b[0m                     Traceback (most recent call last)",
      "File \u001b[0;32m~/conda/lib/python3.11/site-packages/gdown/download.py:267\u001b[0m, in \u001b[0;36mdownload\u001b[0;34m(url, output, quiet, proxy, speed, use_cookies, verify, id, fuzzy, resume, format, user_agent, log_messages)\u001b[0m\n\u001b[1;32m    266\u001b[0m \u001b[38;5;28;01mtry\u001b[39;00m:\n\u001b[0;32m--> 267\u001b[0m     url \u001b[38;5;241m=\u001b[39m get_url_from_gdrive_confirmation(res\u001b[38;5;241m.\u001b[39mtext)\n\u001b[1;32m    268\u001b[0m \u001b[38;5;28;01mexcept\u001b[39;00m FileURLRetrievalError \u001b[38;5;28;01mas\u001b[39;00m e:\n",
      "File \u001b[0;32m~/conda/lib/python3.11/site-packages/gdown/download.py:55\u001b[0m, in \u001b[0;36mget_url_from_gdrive_confirmation\u001b[0;34m(contents)\u001b[0m\n\u001b[1;32m     54\u001b[0m \u001b[38;5;28;01mif\u001b[39;00m \u001b[38;5;129;01mnot\u001b[39;00m url:\n\u001b[0;32m---> 55\u001b[0m     \u001b[38;5;28;01mraise\u001b[39;00m FileURLRetrievalError(\n\u001b[1;32m     56\u001b[0m         \u001b[38;5;124m\"\u001b[39m\u001b[38;5;124mCannot retrieve the public link of the file. \u001b[39m\u001b[38;5;124m\"\u001b[39m\n\u001b[1;32m     57\u001b[0m         \u001b[38;5;124m\"\u001b[39m\u001b[38;5;124mYou may need to change the permission to \u001b[39m\u001b[38;5;124m\"\u001b[39m\n\u001b[1;32m     58\u001b[0m         \u001b[38;5;124m\"\u001b[39m\u001b[38;5;124m'\u001b[39m\u001b[38;5;124mAnyone with the link\u001b[39m\u001b[38;5;124m'\u001b[39m\u001b[38;5;124m, or have had many accesses. \u001b[39m\u001b[38;5;124m\"\u001b[39m\n\u001b[1;32m     59\u001b[0m         \u001b[38;5;124m\"\u001b[39m\u001b[38;5;124mCheck FAQ in https://github.com/wkentaro/gdown?tab=readme-ov-file#faq.\u001b[39m\u001b[38;5;124m\"\u001b[39m,\n\u001b[1;32m     60\u001b[0m     )\n\u001b[1;32m     61\u001b[0m \u001b[38;5;28;01mreturn\u001b[39;00m url\n",
      "\u001b[0;31mFileURLRetrievalError\u001b[0m: Cannot retrieve the public link of the file. You may need to change the permission to 'Anyone with the link', or have had many accesses. Check FAQ in https://github.com/wkentaro/gdown?tab=readme-ov-file#faq.",
      "\nDuring handling of the above exception, another exception occurred:\n",
      "\u001b[0;31mFileURLRetrievalError\u001b[0m                     Traceback (most recent call last)",
      "Cell \u001b[0;32mIn[3], line 3\u001b[0m\n\u001b[1;32m      1\u001b[0m \u001b[38;5;66;03m# downloads the phy output and stimulus info\u001b[39;00m\n\u001b[1;32m      2\u001b[0m \u001b[38;5;28;01mfrom\u001b[39;00m\u001b[38;5;250m \u001b[39m\u001b[38;5;21;01mhelpers\u001b[39;00m\u001b[38;5;250m \u001b[39m\u001b[38;5;28;01mimport\u001b[39;00m download_dataset\n\u001b[0;32m----> 3\u001b[0m download_dataset(\u001b[38;5;124m'\u001b[39m\u001b[38;5;124mchronic_stimulus\u001b[39m\u001b[38;5;124m'\u001b[39m,output_path\u001b[38;5;241m=\u001b[39m\u001b[38;5;124m'\u001b[39m\u001b[38;5;124m./data\u001b[39m\u001b[38;5;124m'\u001b[39m)\n",
      "File \u001b[0;32m~/lib/JHU-neuropixels-2025/tutorials/helpers.py:404\u001b[0m, in \u001b[0;36mdownload_dataset\u001b[0;34m(dataset_name, output_path)\u001b[0m\n\u001b[1;32m    402\u001b[0m     \u001b[38;5;28mprint\u001b[39m(\u001b[38;5;124mf\u001b[39m\u001b[38;5;124m'\u001b[39m\u001b[38;5;124mPath \u001b[39m\u001b[38;5;132;01m{\u001b[39;00moutput_path\u001b[38;5;241m/\u001b[39mk\u001b[38;5;132;01m}\u001b[39;00m\u001b[38;5;124m is there; delete it if you want to download the dataset again.\u001b[39m\u001b[38;5;124m'\u001b[39m)    \n\u001b[1;32m    403\u001b[0m zippath \u001b[38;5;241m=\u001b[39m output_path\u001b[38;5;241m/\u001b[39mk\u001b[38;5;241m/\u001b[39m\u001b[38;5;124mf\u001b[39m\u001b[38;5;124m'\u001b[39m\u001b[38;5;132;01m{\u001b[39;00mk\u001b[38;5;132;01m}\u001b[39;00m\u001b[38;5;124m.zip\u001b[39m\u001b[38;5;124m'\u001b[39m\n\u001b[0;32m--> 404\u001b[0m download(\u001b[38;5;28mid\u001b[39m \u001b[38;5;241m=\u001b[39m file_list[k], output \u001b[38;5;241m=\u001b[39m \u001b[38;5;28mstr\u001b[39m(zippath))\n\u001b[1;32m    406\u001b[0m folderpath \u001b[38;5;241m=\u001b[39m output_path\u001b[38;5;241m/\u001b[39mk\u001b[38;5;241m/\u001b[39m\u001b[38;5;124mf\u001b[39m\u001b[38;5;124m'\u001b[39m\u001b[38;5;132;01m{\u001b[39;00mk\u001b[38;5;132;01m}\u001b[39;00m\u001b[38;5;124m'\u001b[39m\n\u001b[1;32m    407\u001b[0m \u001b[38;5;28;01mwith\u001b[39;00m zipfile\u001b[38;5;241m.\u001b[39mZipFile(\u001b[38;5;28mstr\u001b[39m(zippath), \u001b[38;5;124m'\u001b[39m\u001b[38;5;124mr\u001b[39m\u001b[38;5;124m'\u001b[39m) \u001b[38;5;28;01mas\u001b[39;00m zf:\n",
      "File \u001b[0;32m~/conda/lib/python3.11/site-packages/gdown/download.py:278\u001b[0m, in \u001b[0;36mdownload\u001b[0;34m(url, output, quiet, proxy, speed, use_cookies, verify, id, fuzzy, resume, format, user_agent, log_messages)\u001b[0m\n\u001b[1;32m    268\u001b[0m     \u001b[38;5;28;01mexcept\u001b[39;00m FileURLRetrievalError \u001b[38;5;28;01mas\u001b[39;00m e:\n\u001b[1;32m    269\u001b[0m         message \u001b[38;5;241m=\u001b[39m (\n\u001b[1;32m    270\u001b[0m             \u001b[38;5;124m\"\u001b[39m\u001b[38;5;124mFailed to retrieve file url:\u001b[39m\u001b[38;5;130;01m\\n\u001b[39;00m\u001b[38;5;130;01m\\n\u001b[39;00m\u001b[38;5;132;01m{}\u001b[39;00m\u001b[38;5;130;01m\\n\u001b[39;00m\u001b[38;5;130;01m\\n\u001b[39;00m\u001b[38;5;124m\"\u001b[39m\n\u001b[1;32m    271\u001b[0m             \u001b[38;5;124m\"\u001b[39m\u001b[38;5;124mYou may still be able to access the file from the browser:\u001b[39m\u001b[38;5;124m\"\u001b[39m\n\u001b[0;32m   (...)\u001b[0m\n\u001b[1;32m    276\u001b[0m             url_origin,\n\u001b[1;32m    277\u001b[0m         )\n\u001b[0;32m--> 278\u001b[0m         \u001b[38;5;28;01mraise\u001b[39;00m FileURLRetrievalError(message)\n\u001b[1;32m    280\u001b[0m filename_from_url \u001b[38;5;241m=\u001b[39m \u001b[38;5;28;01mNone\u001b[39;00m\n\u001b[1;32m    281\u001b[0m last_modified_time \u001b[38;5;241m=\u001b[39m \u001b[38;5;28;01mNone\u001b[39;00m\n",
      "\u001b[0;31mFileURLRetrievalError\u001b[0m: Failed to retrieve file url:\n\n\tCannot retrieve the public link of the file. You may need to change\n\tthe permission to 'Anyone with the link', or have had many accesses.\n\tCheck FAQ in https://github.com/wkentaro/gdown?tab=readme-ov-file#faq.\n\nYou may still be able to access the file from the browser:\n\n\thttps://drive.google.com/uc?id=12AtIm-y2JbygTFGcg5yC_3XKiVcYoe2I\n\nbut Gdown can't. Please check connections and permissions."
     ]
    }
   ],
   "source": [
    "# downloads the phy output and stimulus info\n",
    "from helpers import download_dataset\n",
    "download_dataset('chronic_stimulus',output_path='./data')"
   ]
  },
  {
   "cell_type": "code",
   "execution_count": null,
   "id": "df7094d2",
   "metadata": {},
   "outputs": [],
   "source": [
    "# downloads the raw data\n",
    "from helpers import download_dataset\n",
    "download_dataset('chronic_raw',output_path='./data')"
   ]
  }
 ],
 "metadata": {
  "kernelspec": {
   "display_name": "base",
   "language": "python",
   "name": "python3"
  },
  "language_info": {
   "codemirror_mode": {
    "name": "ipython",
    "version": 3
   },
   "file_extension": ".py",
   "mimetype": "text/x-python",
   "name": "python",
   "nbconvert_exporter": "python",
   "pygments_lexer": "ipython3",
   "version": "3.11.6"
  }
 },
 "nbformat": 4,
 "nbformat_minor": 5
}
