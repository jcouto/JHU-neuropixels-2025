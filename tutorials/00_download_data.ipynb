{
 "cells": [
  {
   "cell_type": "markdown",
   "id": "52e2f53a",
   "metadata": {},
   "source": [
    "## Dataset used in the tutorials\n",
    "\n",
    "For these tutorials we will use a dataset from chronic recordings collected for Steinmetz et al. 2021. This is a subset of the data available [here](https://rdr.ucl.ac.uk/articles/dataset/Chronic_recordings_from_Neuropixels_2_0_probes_in_mice/24411841).\n",
    "\n",
    "The dataset was collected by _Anna Lebedeva_ in the Carandini/Harris lab at UCL from animal _AL032_, and prepared by _Jennifer Colonell_ (HHMI, Janelia). \n",
    "\n",
    "**Only data from shank0 and recording day 2019-11-21 are provided.**\n",
    "\n",
    "For experimental details about the recording (specifically: the experiment in Figure 4 of the paper, Supplementary methods 1.2 Chronic recordings in Carandini/Harris Lab at UCL)"
   ]
  },
  {
   "cell_type": "code",
   "execution_count": null,
   "id": "19ee08b4",
   "metadata": {},
   "outputs": [],
   "source": [
    "from helpers import download_dataset\n",
    "download_dataset('info')  # returns information about the available datasets"
   ]
  },
  {
   "cell_type": "code",
   "execution_count": null,
   "id": "73374bfe",
   "metadata": {},
   "outputs": [],
   "source": [
    "# downloads the phy output and stimulus info\n",
    "from helpers import download_dataset\n",
    "download_dataset('chronic_stimulus',output_path='./data')"
   ]
  },
  {
   "cell_type": "code",
   "execution_count": null,
   "id": "df7094d2",
   "metadata": {},
   "outputs": [],
   "source": [
    "# downloads the raw data\n",
    "from helpers import download_dataset\n",
    "download_dataset('chronic_raw',output_path='./data')"
   ]
  }
 ],
 "metadata": {
  "kernelspec": {
   "display_name": "base",
   "language": "python",
   "name": "python3"
  },
  "language_info": {
   "codemirror_mode": {
    "name": "ipython",
    "version": 3
   },
   "file_extension": ".py",
   "mimetype": "text/x-python",
   "name": "python",
   "nbconvert_exporter": "python",
   "pygments_lexer": "ipython3",
   "version": "3.11.6"
  }
 },
 "nbformat": 4,
 "nbformat_minor": 5
}
